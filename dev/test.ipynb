{
 "cells": [
  {
   "cell_type": "code",
   "execution_count": 1,
   "metadata": {},
   "outputs": [],
   "source": [
    "import os; os.chdir(\"..\")"
   ]
  },
  {
   "cell_type": "code",
   "execution_count": 2,
   "metadata": {},
   "outputs": [],
   "source": [
    "import numpy as np\n",
    "import pandas as pd"
   ]
  },
  {
   "cell_type": "code",
   "execution_count": 3,
   "metadata": {},
   "outputs": [],
   "source": [
    "from mlworks.engineering import Blueprint"
   ]
  },
  {
   "cell_type": "code",
   "execution_count": 4,
   "metadata": {},
   "outputs": [],
   "source": [
    "data = pd.DataFrame()"
   ]
  },
  {
   "cell_type": "code",
   "execution_count": 5,
   "metadata": {},
   "outputs": [],
   "source": [
    "bpr = Blueprint(data)"
   ]
  },
  {
   "cell_type": "code",
   "execution_count": 6,
   "metadata": {},
   "outputs": [],
   "source": [
    "bpr.create_plan()"
   ]
  },
  {
   "cell_type": "code",
   "execution_count": 7,
   "metadata": {},
   "outputs": [
    {
     "data": {
      "text/plain": [
       "<mlworks.engineering.Blueprint at 0x7f6509fc5a20>"
      ]
     },
     "execution_count": 7,
     "metadata": {},
     "output_type": "execute_result"
    }
   ],
   "source": [
    "bpr.keep_original_feature(['adadasd']).\\\n",
    "    impute_missing_as_category(['adasd', 'bvfdasd']).\\\n",
    "    impute_missing_as_category(['adasd', 'bvfdasd']).\\\n",
    "    impute_missing_as_number(['asdasd', 'asdasd'], [1,2]).\\\n",
    "    impute_missing_as_number(['asdsdsdasd', 'asdassdsdd'], [1,2]).\\\n",
    "    transform_category_to_order([\"asdasd\"], [[\"asdasd\", \"ad\", \"asd\"]]).\\\n",
    "    binning_custom_classes(\"feature\", [[\"asdas\",\"drdr\"], [\"asdasd\", \"ad\", \"asd\"]]).\\\n",
    "    transform_linear([\"asa\"], [2])"
   ]
  },
  {
   "cell_type": "code",
   "execution_count": 8,
   "metadata": {},
   "outputs": [
    {
     "data": {
      "text/plain": [
       "{'keep_original_feature': ['adadasd'],\n",
       " 'impute_missing_as_category': ['adasd', 'bvfdasd', 'adasd', 'bvfdasd'],\n",
       " 'impute_missing_as_number': {'asdasd': 2, 'asdsdsdasd': 1, 'asdassdsdd': 2},\n",
       " 'transform_category_to_order': {'asdasd': {'order': ['asdasd', 'ad', 'asd'],\n",
       "   'grade': [2, 1, 0]}},\n",
       " 'binning_custom_classes': {'feature': {'class0': ['asdas', 'drdr'],\n",
       "   'class1': ['asdasd', 'ad', 'asd']}},\n",
       " 'transform_linear': {'asa': 2}}"
      ]
     },
     "execution_count": 8,
     "metadata": {},
     "output_type": "execute_result"
    }
   ],
   "source": [
    "bpr.plan"
   ]
  },
  {
   "cell_type": "code",
   "execution_count": 9,
   "metadata": {},
   "outputs": [],
   "source": [
    "def test(plan, key, feature, classes):\n",
    "        if plan.get(key, True) is True:\n",
    "            plan[key] = {}\n",
    "        plan[key][feature] = {}\n",
    "        for var_index in range(len(classes)):\n",
    "            plan[key][feature][\"class\" + str(var_index)] = classes[var_index]\n",
    "        return plan"
   ]
  },
  {
   "cell_type": "code",
   "execution_count": 10,
   "metadata": {},
   "outputs": [],
   "source": [
    "plan = {}"
   ]
  },
  {
   "cell_type": "code",
   "execution_count": 11,
   "metadata": {},
   "outputs": [],
   "source": [
    "plan = test(plan, \"chave\", \"feature\", [[\"asdas\",\"drdr\"], [\"asdasd\", \"ad\", \"asd\"]])"
   ]
  },
  {
   "cell_type": "code",
   "execution_count": 12,
   "metadata": {},
   "outputs": [
    {
     "data": {
      "text/plain": [
       "{'chave': {'feature': {'class0': ['asdas', 'drdr'],\n",
       "   'class1': ['asdasd', 'ad', 'asd']}}}"
      ]
     },
     "execution_count": 12,
     "metadata": {},
     "output_type": "execute_result"
    }
   ],
   "source": [
    "plan"
   ]
  },
  {
   "cell_type": "code",
   "execution_count": null,
   "metadata": {},
   "outputs": [],
   "source": []
  }
 ],
 "metadata": {
  "kernelspec": {
   "display_name": "Python 3",
   "language": "python",
   "name": "python3"
  },
  "language_info": {
   "codemirror_mode": {
    "name": "ipython",
    "version": 3
   },
   "file_extension": ".py",
   "mimetype": "text/x-python",
   "name": "python",
   "nbconvert_exporter": "python",
   "pygments_lexer": "ipython3",
   "version": "3.6.9"
  }
 },
 "nbformat": 4,
 "nbformat_minor": 4
}
