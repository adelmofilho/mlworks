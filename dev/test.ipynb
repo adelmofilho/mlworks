{
 "cells": [
  {
   "cell_type": "code",
   "execution_count": 1,
   "metadata": {},
   "outputs": [],
   "source": [
    "import os; os.chdir(\"..\")"
   ]
  },
  {
   "cell_type": "code",
   "execution_count": 2,
   "metadata": {},
   "outputs": [],
   "source": [
    "import numpy as np\n",
    "import pandas as pd"
   ]
  },
  {
   "cell_type": "code",
   "execution_count": 3,
   "metadata": {},
   "outputs": [],
   "source": [
    "from mlworks.engineering import Blueprint"
   ]
  },
  {
   "cell_type": "code",
   "execution_count": 4,
   "metadata": {},
   "outputs": [],
   "source": [
    "data = pd.DataFrame()"
   ]
  },
  {
   "cell_type": "code",
   "execution_count": 5,
   "metadata": {},
   "outputs": [],
   "source": [
    "bpr = Blueprint(data)"
   ]
  },
  {
   "cell_type": "code",
   "execution_count": 6,
   "metadata": {},
   "outputs": [],
   "source": [
    "bpr.create_plan()"
   ]
  },
  {
   "cell_type": "code",
   "execution_count": 7,
   "metadata": {},
   "outputs": [
    {
     "data": {
      "text/plain": [
       "<mlworks.engineering.Blueprint at 0x7fddb9ad7860>"
      ]
     },
     "execution_count": 7,
     "metadata": {},
     "output_type": "execute_result"
    }
   ],
   "source": [
    "bpr.keep_original_feature(['var1']).\\\n",
    "    impute_missing_as_category(['var2', 'var3']).\\\n",
    "    impute_missing_as_inf(['var4', 'var5']).\\\n",
    "    impute_missing_as_zero(['var6', 'var7']).\\\n",
    "    impute_missing_as_number(['var8', 'var9'], [8,9]).\\\n",
    "    binning_number_one_threshold(['var10', 'var11'], [10, 11]).\\\n",
    "    binning_class_one_vs_all([\"var12\"], [\"categoria12\"]).\\\n",
    "    binning_one_hot_encoding([\"var13\", \"var14\", \"var15\"]).\\\n",
    "    binning_add_extra_class([\"var16\"], [\"extra16\"]).\\\n",
    "    binning_custom_classes(\"var17\", [[\"class1\",\"class2\"], [\"class3\", \"class4\", \"class6\"]]).\\\n",
    "    transform_category_to_order([\"var18\"], [[\"catA\", \"catB\", \"catC\"]]).\\\n",
    "    transform_linear([\"var19\"], [-2000])"
   ]
  },
  {
   "cell_type": "code",
   "execution_count": 8,
   "metadata": {},
   "outputs": [
    {
     "data": {
      "text/plain": [
       "{'keep_original_feature': ['var1'],\n",
       " 'impute_missing_as_category': ['var2', 'var3'],\n",
       " 'impute_missing_as_inf': ['var4', 'var5'],\n",
       " 'impute_missing_as_zero': ['var6', 'var7'],\n",
       " 'impute_missing_as_number': {'var8': 8, 'var9': 9},\n",
       " 'binning_number_one_threshold': {'var10': 10, 'var11': 11},\n",
       " 'binning_class_one_vs_all': {'var12': 'categoria12'},\n",
       " 'binning_one_hot_encoding': ['var13', 'var14', 'var15'],\n",
       " 'binning_add_extra_class': {'var16': 'extra16'},\n",
       " 'binning_custom_classes': {'var17': {'class0': ['class1', 'class2'],\n",
       "   'class1': ['class3', 'class4', 'class6']}},\n",
       " 'transform_category_to_order': {'var18': {'order': ['catA', 'catB', 'catC'],\n",
       "   'grade': [2, 1, 0]}},\n",
       " 'transform_linear': {'var19': -2000}}"
      ]
     },
     "execution_count": 8,
     "metadata": {},
     "output_type": "execute_result"
    }
   ],
   "source": [
    "bpr.plan"
   ]
  },
  {
   "cell_type": "code",
   "execution_count": null,
   "metadata": {},
   "outputs": [],
   "source": []
  }
 ],
 "metadata": {
  "kernelspec": {
   "display_name": "Python 3",
   "language": "python",
   "name": "python3"
  },
  "language_info": {
   "codemirror_mode": {
    "name": "ipython",
    "version": 3
   },
   "file_extension": ".py",
   "mimetype": "text/x-python",
   "name": "python",
   "nbconvert_exporter": "python",
   "pygments_lexer": "ipython3",
   "version": "3.6.9"
  }
 },
 "nbformat": 4,
 "nbformat_minor": 4
}
