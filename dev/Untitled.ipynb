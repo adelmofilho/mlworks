{
 "cells": [
  {
   "cell_type": "code",
   "execution_count": null,
   "metadata": {},
   "outputs": [],
   "source": [
    "import os\n",
    "import json\n",
    "import pandas as pd\n",
    "import matplotlib.pyplot as plt"
   ]
  },
  {
   "cell_type": "code",
   "execution_count": null,
   "metadata": {},
   "outputs": [],
   "source": [
    "os.chdir(\"..\")"
   ]
  },
  {
   "cell_type": "code",
   "execution_count": null,
   "metadata": {},
   "outputs": [],
   "source": [
    "from calysto.utils import load_settings\n",
    "from calysto.feature_engineering import Engineering\n",
    "from calysto.model_selection import Training\n",
    "from calysto.submission import KaggleSubmission"
   ]
  },
  {
   "cell_type": "code",
   "execution_count": null,
   "metadata": {},
   "outputs": [],
   "source": [
    "kaggle_params = json.load(open(\"settings/main.json\", \"r\"))\n",
    "model_params = json.load(open(\"settings/train.json\", \"r\"))\n",
    "feature_params = json.load(open(\"settings/dataprep.json\", \"r\"))"
   ]
  },
  {
   "cell_type": "code",
   "execution_count": null,
   "metadata": {},
   "outputs": [],
   "source": [
    "train = pd.read_csv(\"data/train.csv\")\n",
    "test = pd.read_csv(\"data/test.csv\")"
   ]
  },
  {
   "cell_type": "code",
   "execution_count": null,
   "metadata": {},
   "outputs": [],
   "source": [
    "data = Engineering(train)\n",
    "X = data.feature(feature_params)\n",
    "y = data.target(\"SalePrice\")"
   ]
  },
  {
   "cell_type": "code",
   "execution_count": null,
   "metadata": {},
   "outputs": [],
   "source": [
    "from sklearn.ensemble import GradientBoostingRegressor\n",
    "from sklearn.model_selection import train_test_split"
   ]
  },
  {
   "cell_type": "code",
   "execution_count": null,
   "metadata": {},
   "outputs": [],
   "source": [
    "from numpy import loadtxt, savetxt"
   ]
  },
  {
   "cell_type": "code",
   "execution_count": null,
   "metadata": {},
   "outputs": [],
   "source": [
    "X_train, X_valid, y_train, y_valid = train_test_split(X, y, test_size=0.2, random_state=1903, shuffle=False)"
   ]
  },
  {
   "cell_type": "code",
   "execution_count": null,
   "metadata": {},
   "outputs": [],
   "source": [
    "X_train2, X_valid2, y_train2, y_valid2 = train_test_split(X, y, test_size=0.2, random_state=1903, shuffle=False)"
   ]
  },
  {
   "cell_type": "code",
   "execution_count": null,
   "metadata": {},
   "outputs": [],
   "source": [
    "X_train2"
   ]
  },
  {
   "cell_type": "code",
   "execution_count": null,
   "metadata": {},
   "outputs": [],
   "source": [
    "len(X_train2.columns)"
   ]
  },
  {
   "cell_type": "code",
   "execution_count": null,
   "metadata": {},
   "outputs": [],
   "source": [
    "len(set(X_train2.columns))"
   ]
  },
  {
   "cell_type": "code",
   "execution_count": null,
   "metadata": {
    "scrolled": true
   },
   "outputs": [],
   "source": [
    "X_train2.equals(X_train)"
   ]
  },
  {
   "cell_type": "code",
   "execution_count": null,
   "metadata": {},
   "outputs": [],
   "source": [
    "all(y_train == y_train2)"
   ]
  },
  {
   "cell_type": "code",
   "execution_count": null,
   "metadata": {},
   "outputs": [],
   "source": [
    "gbr = GradientBoostingRegressor(\n",
    "                            random_state=1903,#self.results.best_params_[\"estimator__random_state\"],\n",
    "                            loss=\"huber\",\n",
    "                            learning_rate = 0.08,#self.results.best_params_[\"estimator__learning_rate\"],\n",
    "                            n_estimators = 750, #self.results.best_params_[\"estimator__n_estimators\"],\n",
    "                            subsample = 0.5, #self.results.best_params_[\"estimator__subsample\"],\n",
    "                            min_samples_split = 4,#self.results.best_params_[\"estimator__min_samples_split\"],\n",
    "                            min_samples_leaf = 1,#self.results.best_params_[\"estimator__min_samples_leaf\"],\n",
    "                            min_impurity_decrease = 0,#self.results.best_params_[\"estimator__min_impurity_decrease\"],\n",
    "                            alpha = 0.3,#self.results.best_params_[\"estimator__alpha\"],\n",
    "                            max_depth = None\n",
    "                            )"
   ]
  },
  {
   "cell_type": "code",
   "execution_count": null,
   "metadata": {},
   "outputs": [],
   "source": [
    "gbr2 = GradientBoostingRegressor(\n",
    "                            random_state=1903,#self.results.best_params_[\"estimator__random_state\"],\n",
    "                            loss=\"huber\",\n",
    "                            learning_rate = 0.08,#self.results.best_params_[\"estimator__learning_rate\"],\n",
    "                            n_estimators = 750, #self.results.best_params_[\"estimator__n_estimators\"],\n",
    "                            subsample = 0.5, #self.results.best_params_[\"estimator__subsample\"],\n",
    "                            min_samples_split = 4,#self.results.best_params_[\"estimator__min_samples_split\"],\n",
    "                            min_samples_leaf = 1,#self.results.best_params_[\"estimator__min_samples_leaf\"],\n",
    "                            min_impurity_decrease = 0,#self.results.best_params_[\"estimator__min_impurity_decrease\"],\n",
    "                            alpha = 0.3,#self.results.best_params_[\"estimator__alpha\"],\n",
    "                            max_depth = None\n",
    "                            )"
   ]
  },
  {
   "cell_type": "markdown",
   "metadata": {},
   "source": [
    "gbr2.fit(X_train2, y_train2)"
   ]
  },
  {
   "cell_type": "code",
   "execution_count": null,
   "metadata": {
    "scrolled": true
   },
   "outputs": [],
   "source": [
    "gbr.fit(X_train, y_train)"
   ]
  },
  {
   "cell_type": "markdown",
   "metadata": {},
   "source": [
    "gbr2.score(X_train2, y_train2)"
   ]
  },
  {
   "cell_type": "code",
   "execution_count": null,
   "metadata": {},
   "outputs": [],
   "source": [
    "gbr.score(X_train, y_train)"
   ]
  },
  {
   "cell_type": "code",
   "execution_count": null,
   "metadata": {},
   "outputs": [],
   "source": [
    "import pickle"
   ]
  },
  {
   "cell_type": "code",
   "execution_count": null,
   "metadata": {},
   "outputs": [],
   "source": [
    "with open(\"models/2020-Jul-26-19-06-47.pkl\", \"rb\") as data:\n",
    "    model = pickle.load(data)"
   ]
  },
  {
   "cell_type": "code",
   "execution_count": null,
   "metadata": {
    "scrolled": true
   },
   "outputs": [],
   "source": [
    "model.n_features_"
   ]
  },
  {
   "cell_type": "markdown",
   "metadata": {},
   "source": [
    "### Novo método de feat eng"
   ]
  },
  {
   "cell_type": "code",
   "execution_count": null,
   "metadata": {},
   "outputs": [],
   "source": [
    "feat_eng = Enginerring(data)"
   ]
  },
  {
   "cell_type": "code",
   "execution_count": null,
   "metadata": {},
   "outputs": [],
   "source": [
    "features = feat_eng.planning(params).\\\n",
    "                convert_missing_to_class().\\   # missing_class\n",
    "                convert_missing_to_number().\\  # missing_number_to_inf  # imputation\n",
    "                convert_binary_to_class().\\    # binary_dummies         # one-hot encoding\n",
    "                convert_number_to_binary().\\   # continuous_to_binary   # binning\n",
    "                combine_classes_to_binary().\\  # unify_classes          # binning\n",
    "                order_class_levels().\\         # factor_to_number       #  \n",
    "                keep_original_feature().\\      # identity\n",
    "                transform_number().\\           # scale_adjust\n",
    "                create_missing_dummy().\\       # insert_dummy_faltante\n",
    "                create_custom_classes()        # dummy_controlada       \n",
    "                \n",
    "                \n",
    "                \n",
    "                \n",
    "                "
   ]
  },
  {
   "cell_type": "code",
   "execution_count": 1,
   "metadata": {},
   "outputs": [],
   "source": [
    "import os\n",
    "os.chdir(\"..\")"
   ]
  },
  {
   "cell_type": "code",
   "execution_count": 2,
   "metadata": {},
   "outputs": [],
   "source": [
    "import pandas as pd"
   ]
  },
  {
   "cell_type": "code",
   "execution_count": 3,
   "metadata": {},
   "outputs": [],
   "source": [
    "from calysto.engineering import Blueprint"
   ]
  },
  {
   "cell_type": "code",
   "execution_count": 4,
   "metadata": {},
   "outputs": [],
   "source": [
    "bpr = Blueprint(pd.DataFrame())"
   ]
  },
  {
   "cell_type": "code",
   "execution_count": 5,
   "metadata": {},
   "outputs": [],
   "source": [
    "bpr.create_plan()"
   ]
  },
  {
   "cell_type": "code",
   "execution_count": 6,
   "metadata": {},
   "outputs": [
    {
     "data": {
      "text/plain": [
       "<calysto.engineering.Blueprint at 0x7f9ab8a182b0>"
      ]
     },
     "execution_count": 6,
     "metadata": {},
     "output_type": "execute_result"
    }
   ],
   "source": [
    "bpr.impute_missing_as_category([\"asdad\"]).\\\n",
    "    impute_missing_as_inf([\"asdad\"]).\\\n",
    "    impute_missing_as_category([\"asdad\"]).\\\n",
    "    impute_missing_as_number([\"asd\", \"asdasd\"], [4])"
   ]
  },
  {
   "cell_type": "code",
   "execution_count": 7,
   "metadata": {},
   "outputs": [
    {
     "data": {
      "text/plain": [
       "{'impute_missing_as_category': ['asdad', 'asdad'],\n",
       " 'impute_missing_as_inf': ['asdad'],\n",
       " 'impute_missing_as_number': {'var': ['asd', 'asdasd'], 'value': [4, 4]}}"
      ]
     },
     "execution_count": 7,
     "metadata": {},
     "output_type": "execute_result"
    }
   ],
   "source": [
    " bpr.plan"
   ]
  },
  {
   "cell_type": "code",
   "execution_count": null,
   "metadata": {},
   "outputs": [],
   "source": [
    "a = {}"
   ]
  },
  {
   "cell_type": "code",
   "execution_count": null,
   "metadata": {},
   "outputs": [],
   "source": [
    "bpr.\n",
    "\n",
    "ok    convert_missing_to_class().\\  # missing_class         # imputation                   # impute_categorical\n",
    "ok    convert_missing_to_number().\\ # missing_number_to_inf # imputation       # impute_\n",
    "ok    convert_binary_to_class().\\   # binary_dummies        # one-hot encoding\n",
    "ok    convert_number_to_binary().\\  # continuous_to_binary  # binning\n",
    "ok    combine_classes_to_binary().\\ # unify_classes         # binning\n",
    "ok    order_class_levels().\\        # factor_to_number      # ordering\n",
    "ok    keep_original_feature().\\     # identity              # NA\n",
    "ok    transform_number().\\          # scale_adjust          # scaling    \n",
    "ok    create_missing_dummy().\\      # insert_dummy_faltante # binning\n",
    "ok    create_custom_classes()       # dummy_controlada      # binning"
   ]
  },
  {
   "cell_type": "code",
   "execution_count": null,
   "metadata": {},
   "outputs": [],
   "source": [
    "bpr.execute()"
   ]
  }
 ],
 "metadata": {
  "kernelspec": {
   "display_name": "Python 3",
   "language": "python",
   "name": "python3"
  },
  "language_info": {
   "codemirror_mode": {
    "name": "ipython",
    "version": 3
   },
   "file_extension": ".py",
   "mimetype": "text/x-python",
   "name": "python",
   "nbconvert_exporter": "python",
   "pygments_lexer": "ipython3",
   "version": "3.6.9"
  }
 },
 "nbformat": 4,
 "nbformat_minor": 4
}
